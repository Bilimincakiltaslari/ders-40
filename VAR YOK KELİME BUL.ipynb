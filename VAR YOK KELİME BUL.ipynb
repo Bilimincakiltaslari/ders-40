{
 "cells": [
  {
   "cell_type": "code",
   "execution_count": null,
   "metadata": {},
   "outputs": [],
   "source": [
    "metin=\"TABAK\"\n",
    "for harf in metin:\n",
    "    print(harf)\n",
    "# programı çalıştırırsak çıktı ne olur?  süre: 30 saniye"
   ]
  },
  {
   "cell_type": "code",
   "execution_count": null,
   "metadata": {},
   "outputs": [],
   "source": [
    "metin=\"TABAK\"\n",
    "yeni=[] # köşeli parantez ne anlama geliyor? süre: 15 saniye\n",
    "for harf in metin:\n",
    "    yeni.append(harf) # append metodu ne işe yarıyordu? süre: 15 saniye\n",
    "print(yeni)"
   ]
  },
  {
   "cell_type": "code",
   "execution_count": null,
   "metadata": {},
   "outputs": [],
   "source": [
    "metin=\"TABAK\"\n",
    "kelime1=[]\n",
    "for harf in metin:\n",
    "    kelime1.append(harf) \n",
    "kelime1[0],kelime1[2]=kelime1[2],kelime1[0] # Bu satırda ne yapmış olduk? süre: 15 saniye\n",
    "yazı1=\"\"\n",
    "for i in kelime1:\n",
    "    yazı1 += i\n",
    "print(yazı1) # çıktı aşağıdakilerden hangisidir? \n",
    "             # A) string B) liste C) sayı D) Hiç biri   süre: 15 saniye"
   ]
  },
  {
   "cell_type": "code",
   "execution_count": null,
   "metadata": {},
   "outputs": [],
   "source": [
    "metin1=\"abcçdefgğhıijklmnoöprsştuüvyz\"\n",
    "a=0\n",
    "for say in metin1:\n",
    "    a=a+1\n",
    "    print(\"{:>2}{:>2}\\t\".format(a,say,\"   \"),end=\"\")\n",
    "# döngünün son değeri için print çıktısı nedir? süre: 30 saniye"
   ]
  },
  {
   "cell_type": "code",
   "execution_count": null,
   "metadata": {},
   "outputs": [],
   "source": [
    "metin1=\"abcçdefgğhıijklmnoöprsştuüvyz\"\n",
    "metin2=\"abcdefghijklmnopqrstuvwxyz\"\n",
    "a=0\n",
    "for say in metin2:\n",
    "    a=a+1\n",
    "    print(\"{:>2}{:>2}\\t\".format(a,say,\"   \"),end=\"\")\n",
    "# döngünün 4. değeri için print çıktısı nedir? süre: 30 saniye"
   ]
  },
  {
   "cell_type": "code",
   "execution_count": null,
   "metadata": {},
   "outputs": [],
   "source": [
    "metin1=\"abcçdefgğhıijklmnoöprsştuüvyz\"\n",
    "metin2=\"abcdefghijklmnopqrstuvwxyz\"\n",
    "for var in metin1:\n",
    "    if var in metin2: # if koşulu burada neyi kontrol ediyor? süre: 15 saniye\n",
    "        print(var,end=\"  \")"
   ]
  },
  {
   "cell_type": "code",
   "execution_count": null,
   "metadata": {},
   "outputs": [],
   "source": [
    "metin1=\"abcçdefgğhıijklmnoöprsştuüvyz\"\n",
    "metin2=\"abcdefghijklmnopqrstuvwxyz\"\n",
    "print(\"İngilizcede olmayan harfler  = \",end=\" \")\n",
    "for yok in metin1:\n",
    "    if not yok in metin2:\n",
    "        print(yok,end=\" \")\n",
    "print()\n",
    "print(\"Türkçede olmayan harfler     = \",end=\" \")\n",
    "for yok in metin2:\n",
    "    if not yok in metin1:\n",
    "        print(yok,end=\" \")"
   ]
  },
  {
   "cell_type": "code",
   "execution_count": null,
   "metadata": {},
   "outputs": [],
   "source": [
    "ilk_metin = \"asdasfddgdhfjfdgdşfkgjdfklgşjdfklgjdfkghdfjghjklsdhajlsdhjkjhkhjjh\"\n",
    "ikinci_metin = \"sdfsuıdoryeuıfsjkdfhdjklghjdfklruseldhfjlkdshfljskeeuf\"\n",
    "\n",
    "for s in ilk_metin:\n",
    "    if not s in ikinci_metin:\n",
    "        print(s,end=\" \")"
   ]
  },
  {
   "cell_type": "code",
   "execution_count": null,
   "metadata": {},
   "outputs": [],
   "source": [
    "metin3 = \"asdasfddgdhfjfdgdşfkgjdfklgşjdfklgjdfkghdfjghjklsdhajlsdhjkjhkhjjh\"\n",
    "metin4 = \"sdfsuıdoryeuıfsjkdfhdjklghjdfklruseldhfjlkdshfljskeeuf\"\n",
    "fark = \"\"\n",
    "for s in metin3:\n",
    "    if not s in metin4:\n",
    "        if not s in fark:\n",
    "            fark += s\n",
    "for s in fark:\n",
    "    print(s,end=\" \")"
   ]
  },
  {
   "cell_type": "code",
   "execution_count": null,
   "metadata": {},
   "outputs": [],
   "source": [
    "harf1=\"a\"\n",
    "harf2=\"b\"\n",
    "harf3=harf1 + harf2\n",
    "id(harf1)"
   ]
  },
  {
   "cell_type": "code",
   "execution_count": null,
   "metadata": {},
   "outputs": [],
   "source": [
    "id(harf2)"
   ]
  },
  {
   "cell_type": "code",
   "execution_count": null,
   "metadata": {},
   "outputs": [],
   "source": [
    "id(harf3)"
   ]
  },
  {
   "cell_type": "code",
   "execution_count": null,
   "metadata": {},
   "outputs": [],
   "source": [
    "id(harf1)"
   ]
  },
  {
   "cell_type": "code",
   "execution_count": null,
   "metadata": {},
   "outputs": [],
   "source": [
    "# hedefi yazma modunda aç\n",
    "dosya=open(\"HARF.txt\",\"w\", encoding=\"utf-8\")\n",
    "print(23*\"*\",\"OLMAYAN HARFLER\",23*\"*\", file=dosya)\n",
    "print(71*\"*\", file=dosya)\n",
    "ilkmetin = \"asdasfdygdhfjtgdefdjdflgşjtfkljdfkhdfjhklshalsdhkykhh\"\n",
    "sonmetin = \"sdfsuıdormiuıfsjşdfhdjdlghjdfrlrusildhfjlndşhfljsiouf\"\n",
    "print(ilkmetin, file=dosya)\n",
    "print(sonmetin, file=dosya)\n",
    "print(\"ilk satırda olup, ikinci satırda olmayan harfler\", file=dosya)\n",
    "\n",
    "fark = \"\"\n",
    "for s in ilkmetin:\n",
    "    if not s in sonmetin:\n",
    "        if not s in fark:\n",
    "            fark += s\n",
    "for s in fark:\n",
    "    print(s,end=\" \", file=dosya)\n",
    "dosya.close()"
   ]
  },
  {
   "cell_type": "code",
   "execution_count": null,
   "metadata": {},
   "outputs": [],
   "source": [
    "# dosyayı okuma modunda aç\n",
    "fn1 = open('HARF.txt', 'r', encoding=\"utf-8\") \n",
    "  \n",
    "# hedefi yazma modunda aç\n",
    "fn2 = open('HARF2.txt', 'w', encoding=\"utf-8\") \n",
    "  \n",
    "# satırları oku\n",
    "kontrol = fn1.readlines() \n",
    " \n",
    "for i in range(0, len(kontrol)):\n",
    "    fn2.write(kontrol[i]) \n",
    " \n",
    "# dosyayı kapat\n",
    "fn2.close() \n",
    "  \n",
    "# okuma modundan hedefi aç\n",
    "fn2 = open('HARF2.txt', 'r', encoding=\"utf-8\") \n",
    "  \n",
    "# satırları oku\n",
    "kontrol = fn2.read() \n",
    "  \n",
    "# satırları yazdır \n",
    "print(kontrol) \n",
    "  \n",
    "# dosyayı kapat\n",
    "fn1.close() \n",
    "fn2.close()"
   ]
  },
  {
   "cell_type": "code",
   "execution_count": null,
   "metadata": {},
   "outputs": [],
   "source": [
    "# hedefi yazma modunda aç\n",
    "dosya=open(\"HARF.txt\",\"w\", encoding=\"utf-8\")\n",
    "print(23*\"*\",\"OLMAYAN HARFLER\",23*\"*\", file=dosya)\n",
    "print(71*\"*\", file=dosya)\n",
    "ilkmetin = \"asdasfdygdhfjtgdefdjdflgşjtfkljdfkhdfjhklshalsdhkykhh\"\n",
    "sonmetin = \"sdfsuıdormiuıfsjşdfhdjdlghjdfrlrusildhfjlndşhfljsiouf\"\n",
    "print(ilkmetin, file=dosya)\n",
    "print(sonmetin, file=dosya)\n",
    "print(\"ikinci satırda olup, ilk satırda olmayan harfler\", file=dosya)\n",
    "\n",
    "fark = \"\"\n",
    "for s in ilkmetin:\n",
    "    if s in sonmetin:\n",
    "        if not s in fark:\n",
    "            fark += s\n",
    "for s in fark:\n",
    "    print(s,end=\" \", file=dosya)\n",
    "dosya.close()"
   ]
  },
  {
   "cell_type": "code",
   "execution_count": null,
   "metadata": {},
   "outputs": [],
   "source": [
    "# dosyayı okuma modunda aç\n",
    "fn1 = open('HARF.txt', 'r', encoding=\"utf-8\") \n",
    "  \n",
    "# hedefi yazma modunda aç\n",
    "fn2 = open('HARF2.txt', 'w', encoding=\"utf-8\") \n",
    "  \n",
    "# satırları oku\n",
    "kontrol = fn1.readlines() \n",
    " \n",
    "for i in range(0, len(kontrol)):\n",
    "    fn2.write(kontrol[i]) \n",
    " \n",
    "# dosyayı kapat\n",
    "fn2.close() \n",
    "  \n",
    "# okuma modundan hedefi aç\n",
    "fn2 = open('HARF2.txt', 'r', encoding=\"utf-8\") \n",
    "  \n",
    "# satırları oku\n",
    "kontrol = fn2.read() \n",
    "  \n",
    "# satırları yazdır \n",
    "print(kontrol) \n",
    "  \n",
    "# dosyayı kapat\n",
    "fn1.close() \n",
    "fn2.close()"
   ]
  },
  {
   "cell_type": "code",
   "execution_count": null,
   "metadata": {},
   "outputs": [],
   "source": [
    "metin = \"\"\"Bu programlama dili Guido Van Rossum adlı Hollandalı bir programcı\n",
    "tarafından 90’lı yılların başında geliştirilmeye başlanmıştır. Çoğu insan,\n",
    "isminin Python olmasına aldanarak, bu programlama dilinin, adını piton\n",
    "yılanından aldığını düşünür. Ancak zannedildiğinin aksine bu programlama dilinin\n",
    "adı piton yılanından gelmez. Guido Van Rossum bu programlama dilini, The Monty\n",
    "Python adlı bir İngiliz komedi grubunun, Monty Python’s Flying Circus adlı\n",
    "gösterisinden esinlenerek adlandırmıştır. Ancak her ne kadar gerçek böyle olsa\n",
    "da, Python programlama dilinin pek çok yerde bir yılan figürü ile temsil\n",
    "edilmesi neredeyse bir gelenek halini almıştır.\"\"\"\n",
    "\n",
    "kelime = input(\"Sorgulamak istediğiniz kelime: \"\"\")\n",
    "kelimes=len(kelime)\n",
    "cümles=len(metin)\n",
    "dönmes=cümles - kelimes + 1\n",
    "xveri=[]\n",
    "sayı = 0\n",
    "for x in range(1,dönmes): \n",
    "    arama=\"\"\n",
    "    sayaç=0\n",
    "    for dön in metin:\n",
    "        sayaç += 1\n",
    "        \n",
    "        if sayaç - x < kelimes and sayaç - x >= 0:\n",
    "            arama += dön\n",
    "    \n",
    "    if kelime==arama:\n",
    "        sayı += 1\n",
    "        xveri.append(x)\n",
    "print(90*\"*\")        \n",
    "print(\"aramanızla ilgili\",sayı,\"sonuç bulundu\")\n",
    "print(90*\"*\")\n",
    "print(\"aramanız koyu renk ile aşağıdaki metinde belirtilmiştir.\")\n",
    "print(90*\"*\")\n",
    "sayı=0\n",
    "ilk=0\n",
    "ymetin=\"\"\n",
    "for i in xveri:\n",
    "    for dön in metin:\n",
    "        sayı +=1\n",
    "        if sayı < i and sayı > ilk:\n",
    "            ymetin += dön\n",
    "    sayı=0\n",
    "    for dön in metin:\n",
    "        sayı +=1\n",
    "        if sayı >= i and sayı < i+kelimes:\n",
    "            ymetin += \"\\033[1m\" + dön + \"\\033[0m\" \n",
    "    ilk=i+kelimes-1\n",
    "    sayı=0\n",
    "sayı=0\n",
    "for dön in metin:\n",
    "        sayı +=1\n",
    "        if sayı > i + kelimes-1:\n",
    "            ymetin += dön\n",
    "print(ymetin)"
   ]
  },
  {
   "cell_type": "code",
   "execution_count": null,
   "metadata": {},
   "outputs": [],
   "source": [
    "%%writefile deneme.txt\n",
    "Ey Türk Gençliği!\n",
    "Birinci vazifen, \n",
    "Türk istiklâlini, Türk Cumhuriyeti'ni, \n",
    "ilelebet muhafaza ve müdafaa etmektir."
   ]
  },
  {
   "cell_type": "code",
   "execution_count": null,
   "metadata": {},
   "outputs": [],
   "source": [
    "f = open(\"deneme.txt\")"
   ]
  },
  {
   "cell_type": "code",
   "execution_count": null,
   "metadata": {},
   "outputs": [],
   "source": [
    "f.read()"
   ]
  },
  {
   "cell_type": "code",
   "execution_count": null,
   "metadata": {},
   "outputs": [],
   "source": [
    "f.close()"
   ]
  },
  {
   "cell_type": "code",
   "execution_count": null,
   "metadata": {},
   "outputs": [],
   "source": [
    "f = open(\"deneme.txt\")\n",
    "f.readlines()"
   ]
  },
  {
   "cell_type": "code",
   "execution_count": null,
   "metadata": {},
   "outputs": [],
   "source": [
    "f.close()"
   ]
  },
  {
   "cell_type": "code",
   "execution_count": null,
   "metadata": {},
   "outputs": [],
   "source": [
    "f = open(\"deneme.txt\")\n",
    "f.readline()"
   ]
  },
  {
   "cell_type": "code",
   "execution_count": null,
   "metadata": {},
   "outputs": [],
   "source": [
    "for satır in f:\n",
    "    print(satır.upper(),end=\"\")\n",
    "f.close()"
   ]
  },
  {
   "cell_type": "code",
   "execution_count": null,
   "metadata": {},
   "outputs": [],
   "source": [
    "with open(\"deneme.txt\") as f:\n",
    "    print(f.read())"
   ]
  },
  {
   "cell_type": "code",
   "execution_count": null,
   "metadata": {},
   "outputs": [],
   "source": [
    "f.closed"
   ]
  },
  {
   "cell_type": "code",
   "execution_count": null,
   "metadata": {},
   "outputs": [],
   "source": []
  }
 ],
 "metadata": {
  "kernelspec": {
   "display_name": "Python 3",
   "language": "python",
   "name": "python3"
  },
  "language_info": {
   "codemirror_mode": {
    "name": "ipython",
    "version": 3
   },
   "file_extension": ".py",
   "mimetype": "text/x-python",
   "name": "python",
   "nbconvert_exporter": "python",
   "pygments_lexer": "ipython3",
   "version": "3.7.3"
  }
 },
 "nbformat": 4,
 "nbformat_minor": 2
}
